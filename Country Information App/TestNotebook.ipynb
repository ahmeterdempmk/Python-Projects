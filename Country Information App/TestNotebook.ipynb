{
 "cells": [
  {
   "cell_type": "code",
   "execution_count": 1,
   "metadata": {},
   "outputs": [],
   "source": [
    "import requests"
   ]
  },
  {
   "cell_type": "code",
   "execution_count": 2,
   "metadata": {},
   "outputs": [
    {
     "data": {
      "text/plain": [
       "<Response [200]>"
      ]
     },
     "execution_count": 2,
     "metadata": {},
     "output_type": "execute_result"
    }
   ],
   "source": [
    "response = requests.get(\"https://restcountries.com/v3/all\")\n",
    "response"
   ]
  },
  {
   "cell_type": "code",
   "execution_count": 3,
   "metadata": {},
   "outputs": [],
   "source": [
    "response = requests.get(\"https://restcountries.com/v3/name/turkiye\")"
   ]
  },
  {
   "cell_type": "code",
   "execution_count": 7,
   "metadata": {},
   "outputs": [
    {
     "name": "stdout",
     "output_type": "stream",
     "text": [
      "[{'name': {'common': 'Turkey', 'official': 'Republic of Turkey', 'nativeName': {'tur': {'official': 'Türkiye Cumhuriyeti', 'common': 'Türkiye'}}}, 'tld': ['.tr'], 'cca2': 'TR', 'ccn3': '792', 'cca3': 'TUR', 'cioc': 'TUR', 'independent': True, 'status': 'officially-assigned', 'unMember': True, 'currencies': {'TRY': {'name': 'Turkish lira', 'symbol': '₺'}}, 'idd': {'root': '+9', 'suffixes': ['0']}, 'capital': ['Ankara'], 'altSpellings': ['TR', 'Turkiye', 'Republic of Turkey', 'Türkiye Cumhuriyeti'], 'region': 'Asia', 'subregion': 'Western Asia', 'languages': {'tur': 'Turkish'}, 'translations': {'ara': {'official': 'الجمهورية التركية', 'common': 'تركيا'}, 'bre': {'official': 'Republik Turkia', 'common': 'Turkia'}, 'ces': {'official': 'Turecká republika', 'common': 'Turecko'}, 'cym': {'official': 'Republic of Turkey', 'common': 'Turkey'}, 'deu': {'official': 'Republik Türkei', 'common': 'Türkei'}, 'est': {'official': 'Türgi Vabariik', 'common': 'Türgi'}, 'fin': {'official': 'Turkin tasavalta', 'common': 'Turkki'}, 'fra': {'official': 'République de Turquie', 'common': 'Turquie'}, 'hrv': {'official': 'Republika Turska', 'common': 'Turska'}, 'hun': {'official': 'Török Köztársaság', 'common': 'Törökország'}, 'ita': {'official': 'Repubblica di Turchia', 'common': 'Turchia'}, 'jpn': {'official': 'トルコ共和国', 'common': 'トルコ'}, 'kor': {'official': '터키 공화국', 'common': '터키'}, 'nld': {'official': 'Republiek Turkije', 'common': 'Turkije'}, 'per': {'official': 'جمهوری ترکیه', 'common': 'ترکیه'}, 'pol': {'official': 'Republika Turcji', 'common': 'Turcja'}, 'por': {'official': 'República da Turquia', 'common': 'Turquia'}, 'rus': {'official': 'Республика Турции', 'common': 'Турция'}, 'slk': {'official': 'Turecká republika', 'common': 'Turecko'}, 'spa': {'official': 'República de Turquía', 'common': 'Turquía'}, 'swe': {'official': 'Republiken Turkiet', 'common': 'Turkiet'}, 'urd': {'official': 'جمہوریہ ترکی', 'common': 'ترکی'}, 'zho': {'official': '土耳其共和国', 'common': '土耳其'}}, 'latlng': [39.0, 35.0], 'landlocked': False, 'borders': ['ARM', 'AZE', 'BGR', 'GEO', 'GRC', 'IRN', 'IRQ', 'SYR'], 'area': 783562.0, 'demonyms': {'eng': {'f': 'Turkish', 'm': 'Turkish'}, 'fra': {'f': 'Turque', 'm': 'Turc'}}, 'flag': '🇹🇷', 'maps': {'googleMaps': 'https://goo.gl/maps/dXFFraiUDfcB6Quk6', 'openStreetMaps': 'https://www.openstreetmap.org/relation/174737'}, 'population': 84339067, 'gini': {'2019': 41.9}, 'fifa': 'TUR', 'car': {'signs': ['TR'], 'side': 'right'}, 'timezones': ['UTC+03:00'], 'continents': ['Asia'], 'flags': ['https://flagcdn.com/tr.svg', 'https://flagcdn.com/w320/tr.png']}]\n"
     ]
    }
   ],
   "source": [
    "if response.status_code == 200:\n",
    "    data = response.json()\n",
    "    print(data)\n",
    "else:\n",
    "    print(f\"Error: {response.status_code}\")"
   ]
  }
 ],
 "metadata": {
  "kernelspec": {
   "display_name": "Python 3",
   "language": "python",
   "name": "python3"
  },
  "language_info": {
   "codemirror_mode": {
    "name": "ipython",
    "version": 3
   },
   "file_extension": ".py",
   "mimetype": "text/x-python",
   "name": "python",
   "nbconvert_exporter": "python",
   "pygments_lexer": "ipython3",
   "version": "3.12.4"
  }
 },
 "nbformat": 4,
 "nbformat_minor": 2
}
